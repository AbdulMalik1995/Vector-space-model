{
  "nbformat": 4,
  "nbformat_minor": 0,
  "metadata": {
    "colab": {
      "name": "vsm_from_scratch.ipynb",
      "provenance": [],
      "collapsed_sections": []
    },
    "kernelspec": {
      "name": "python3",
      "display_name": "Python 3"
    },
    "language_info": {
      "name": "python"
    }
  },
  "cells": [
    {
      "cell_type": "code",
      "execution_count": null,
      "metadata": {
        "colab": {
          "base_uri": "https://localhost:8080/"
        },
        "id": "uJLZwm5Q1mnA",
        "outputId": "353e6862-2fda-4030-9afc-c0a4f937bc40"
      },
      "outputs": [
        {
          "output_type": "stream",
          "name": "stdout",
          "text": [
            "[nltk_data] Downloading collection 'popular'\n",
            "[nltk_data]    | \n",
            "[nltk_data]    | Downloading package cmudict to /root/nltk_data...\n",
            "[nltk_data]    |   Unzipping corpora/cmudict.zip.\n",
            "[nltk_data]    | Downloading package gazetteers to /root/nltk_data...\n",
            "[nltk_data]    |   Unzipping corpora/gazetteers.zip.\n",
            "[nltk_data]    | Downloading package genesis to /root/nltk_data...\n",
            "[nltk_data]    |   Unzipping corpora/genesis.zip.\n",
            "[nltk_data]    | Downloading package gutenberg to /root/nltk_data...\n",
            "[nltk_data]    |   Unzipping corpora/gutenberg.zip.\n",
            "[nltk_data]    | Downloading package inaugural to /root/nltk_data...\n",
            "[nltk_data]    |   Unzipping corpora/inaugural.zip.\n",
            "[nltk_data]    | Downloading package movie_reviews to\n",
            "[nltk_data]    |     /root/nltk_data...\n",
            "[nltk_data]    |   Unzipping corpora/movie_reviews.zip.\n",
            "[nltk_data]    | Downloading package names to /root/nltk_data...\n",
            "[nltk_data]    |   Unzipping corpora/names.zip.\n",
            "[nltk_data]    | Downloading package shakespeare to /root/nltk_data...\n",
            "[nltk_data]    |   Unzipping corpora/shakespeare.zip.\n",
            "[nltk_data]    | Downloading package stopwords to /root/nltk_data...\n",
            "[nltk_data]    |   Unzipping corpora/stopwords.zip.\n",
            "[nltk_data]    | Downloading package treebank to /root/nltk_data...\n",
            "[nltk_data]    |   Unzipping corpora/treebank.zip.\n",
            "[nltk_data]    | Downloading package twitter_samples to\n",
            "[nltk_data]    |     /root/nltk_data...\n",
            "[nltk_data]    |   Unzipping corpora/twitter_samples.zip.\n",
            "[nltk_data]    | Downloading package omw to /root/nltk_data...\n",
            "[nltk_data]    |   Unzipping corpora/omw.zip.\n",
            "[nltk_data]    | Downloading package omw-1.4 to /root/nltk_data...\n",
            "[nltk_data]    |   Unzipping corpora/omw-1.4.zip.\n",
            "[nltk_data]    | Downloading package wordnet to /root/nltk_data...\n",
            "[nltk_data]    |   Unzipping corpora/wordnet.zip.\n",
            "[nltk_data]    | Downloading package wordnet2021 to /root/nltk_data...\n",
            "[nltk_data]    |   Unzipping corpora/wordnet2021.zip.\n",
            "[nltk_data]    | Downloading package wordnet31 to /root/nltk_data...\n",
            "[nltk_data]    |   Unzipping corpora/wordnet31.zip.\n",
            "[nltk_data]    | Downloading package wordnet_ic to /root/nltk_data...\n",
            "[nltk_data]    |   Unzipping corpora/wordnet_ic.zip.\n",
            "[nltk_data]    | Downloading package words to /root/nltk_data...\n",
            "[nltk_data]    |   Unzipping corpora/words.zip.\n",
            "[nltk_data]    | Downloading package maxent_ne_chunker to\n",
            "[nltk_data]    |     /root/nltk_data...\n",
            "[nltk_data]    |   Unzipping chunkers/maxent_ne_chunker.zip.\n",
            "[nltk_data]    | Downloading package punkt to /root/nltk_data...\n",
            "[nltk_data]    |   Unzipping tokenizers/punkt.zip.\n",
            "[nltk_data]    | Downloading package snowball_data to\n",
            "[nltk_data]    |     /root/nltk_data...\n",
            "[nltk_data]    | Downloading package averaged_perceptron_tagger to\n",
            "[nltk_data]    |     /root/nltk_data...\n",
            "[nltk_data]    |   Unzipping taggers/averaged_perceptron_tagger.zip.\n",
            "[nltk_data]    | \n",
            "[nltk_data]  Done downloading collection popular\n"
          ]
        }
      ],
      "source": [
        "import glob\n",
        "import nltk\n",
        "import re\n",
        "nltk.download('popular');\n",
        "from nltk.corpus import stopwords\n",
        "import urllib.request\n",
        "from nltk import word_tokenize\n",
        "import string\n",
        "from collections import Counter\n",
        "import numpy as np\n",
        "from collections import OrderedDict"
      ]
    },
    {
      "cell_type": "code",
      "source": [
        "def get_boat_poems():\n",
        "  poems = []\n",
        "  from bs4 import BeautifulSoup\n",
        "  # get poems html\n",
        "  url = 'https://discoverpoetry.com/poems/poems-about-ships/'\n",
        "  contents = urllib.request.urlopen(url).read()\n",
        "  soup = BeautifulSoup(contents)\n",
        "  for poem_html in soup.find_all('article', {'class': 'poem-listing'}):\n",
        "    poem = re.search('<p class=\"ExcerptText\">(.*?)</blockquote>', str(poem_html), re.DOTALL).groups(1)\n",
        "    poems.append(poem[0])\n",
        "  return poems"
      ],
      "metadata": {
        "id": "scHpk_mW2Vch"
      },
      "execution_count": null,
      "outputs": []
    },
    {
      "cell_type": "code",
      "source": [
        "corpus=get_boat_poems()"
      ],
      "metadata": {
        "id": "pPxNDvdb25fC"
      },
      "execution_count": null,
      "outputs": []
    },
    {
      "cell_type": "code",
      "source": [
        "corpus"
      ],
      "metadata": {
        "id": "vsu3yWZMUJAE",
        "outputId": "8bce658b-d963-4e47-ed45-d3241f56422f",
        "colab": {
          "base_uri": "https://localhost:8080/"
        }
      },
      "execution_count": null,
      "outputs": [
        {
          "output_type": "execute_result",
          "data": {
            "text/plain": [
              "['\\r\\n                                Ay, tear her tattered ensign down!<br/>\\n<span class=\"indent-single\">Long has it waved on high,</span><br/> \\r\\n                                And many an eye has danced to see<br/>\\n<span class=\"indent-single\">That banner in the sky;</span><br/> \\r\\n                                Beneath it rung the battle shout,<br/>\\n<span class=\"indent-single\">And burst the cannon’s roar;—</span><br/> \\r\\n                                The meteor of the ocean air<br/>\\n<span class=\"indent-single\">Shall sweep the clouds no more! </span><br/>\\n</p>\\n<p>\\r\\n                                Her deck, once red with heroes’ blood<br/>\\n<span class=\"indent-single\">Where knelt the vanquished foe,</span><br/> \\r\\n                                When winds were hurrying o’er the flood<br/>\\n<span class=\"indent-single\">And waves were white below,</span><br/> \\r\\n                                No more shall feel the victor’s tread,<br/>\\n<span class=\"indent-single\">Or know the conquered knee;—</span><br/> \\r\\n                                The harpies of the shore shall pluck<br/>\\n<span class=\"indent-single\">The eagle of the sea!</span><br/>\\n</p>\\n<p>\\r\\n                                O, better that her shattered hulk<br/>\\n<span class=\"indent-single\">Should sink beneath the wave;</span><br/> \\r\\n                                Her thunders shook the mighty deep,<br/>\\n<span class=\"indent-single\">And there should be her grave;</span><br/> \\r\\n                                Nail to the mast her holy flag,<br/>\\n<span class=\"indent-single\">Set every thread-bare sail,</span><br/> \\r\\n                                And give her to the god of storms,—<br/>\\n<span class=\"indent-single\">The lightning and the gale!</span><br/>\\n</p>\\n',\n",
              " \"\\r\\n\\t\\t\\t\\t\\t            The sea blood slumbering in our veins<br/>\\r\\n                                Through the life we've led on hills and plains<br/>\\r\\n                                Has caught the sound of waves once more<br/>\\r\\n                                That break upon the northern shore.<br/>\\n</p>\\n<p>\\r\\n\\t\\t\\t\\t\\t            And a thousand years are swept away —<br/>\\r\\n                                The Vikings' time was yesterday —<br/>\\r\\n                                We cannot live in land-locked bowers,<br/>\\r\\n                                The sea is ours! The sea is ours!<br/>\\n</p>\\n<p>\\r\\n\\t\\t\\t\\t\\t            And we'll scour the seas in our ships of steam,<br/>\\r\\n                                And our merchantmen with their sails shall gleam,<br/>\\r\\n                                And it shall come to all men's ken<br/>\\r\\n                                That the old north spirit moves again.<br/>\\n</p>\\n\",\n",
              " \"\\r\\n                                Fare thee well! the ship is ready,<br/>\\r\\n                                And the breeze is fresh and steady.<br/>\\r\\n                                Hands are fast the anchor weighing;<br/>\\r\\n                                High in the air the streamer's playing.<br/>\\r\\n                                Spread the sails—the waves are swelling<br/>\\r\\n                                Proudly round thy buoyant dwelling,<br/>\\r\\n                                Fare thee well! and when at sea,<br/>\\r\\n                                Think of those, who sigh for thee.<br/>\\n</p>\\n<p>\\r\\n                                When from land and home receding,<br/>\\r\\n                                And from hearts, that ache to bleeding,<br/>\\r\\n                                Think of those behind, who love thee,<br/>\\r\\n                                While the sun is bright above thee!<br/>\\r\\n                                Then, as down to ocean glancing,<br/>\\r\\n                                With the waves his rays are dancing,<br/>\\r\\n                                Think how long the night will be<br/>\\r\\n                                To the eyes, that weep for thee.<br/>\\n</p>\\n<p>\\r\\n                                When the lonely night-watch keeping,<br/>\\r\\n                                All below thee still and sleeping—<br/>\\r\\n                                As the needle points the quarter<br/>\\r\\n                                O'er the wide and trackless water,<br/>\\r\\n                                Let thy vigils ever find thee<br/>\\r\\n                                Mindful of the friends behind thee!<br/>\\r\\n                                Let thy bosom's magnet be<br/>\\r\\n                                Turned to those, who wake for thee!<br/>\\n</p>\\n<p>\\r\\n                                When, with slow and gentle motion,<br/>\\r\\n                                Heaves the bosom of the ocean—<br/>\\r\\n                                While in peace thy bark is riding,<br/>\\r\\n                                And the silver moon is gliding<br/>\\r\\n                                O'er the sky with tranquil splendor,<br/>\\r\\n                                Where the shining hosts attend her;<br/>\\r\\n                                Let the brightest visions be<br/>\\r\\n                                Country, home and friends, to thee!<br/>\\n</p>\\n<p>\\r\\n                                When the tempest hovers o'er thee,<br/>\\r\\n                                Danger, wreck and death before thee,<br/>\\r\\n                                While the sword of fire is gleaming,<br/>\\r\\n                                Wild the winds, the torrent streaming,<br/>\\r\\n                                Then, a pious suppliant bending,<br/>\\r\\n                                Let thy thoughts to heaven ascending<br/>\\r\\n                                Reach the mercy-seat, to be<br/>\\r\\n                                Met by prayers that rise for thee!<br/>\\n</p>\\n\",\n",
              " '\\r\\n                                Now the spring is in the town,<br/> \\r\\n                                Now the wind is in the tree,<br/> \\r\\n                                And the wintered keels go down<br/> \\r\\n                                To the calling of the sea.<br/>\\n</p>\\n<p>\\r\\n                                Out from mooring, dock, and slip,<br/>\\r\\n                                Through the harbor buoys they glide,<br/> \\r\\n                                Drawing seaward till they dip<br/> \\r\\n                                To the swirling of the tide.<br/>\\n</p>\\n<p>\\r\\n                                One by one and two by two,<br/> \\r\\n                                Down the channel turns they go,<br/> \\r\\n                                Steering for the open blue<br/> \\r\\n                                Where the salty great airs blow;<br/>\\n</p>\\n<p>\\r\\n                                Craft of many a build and trim,<br/> \\r\\n                                Every stitch of sail unfurled,<br/> \\r\\n                                Till they hang upon the rim<br/> \\r\\n                                Of the azure ocean world.<br/>\\n</p>\\n<p>\\r\\n                                Who has ever, man or boy,<br/> \\r\\n                                Seen the sea all flecked with gold,<br/> \\r\\n                                And not longed to go with joy<br/> \\r\\n                                Forth upon adventures bold?<br/>\\n</p>\\n<p>\\r\\n                                Who could bear to stay indoor,<br/> \\r\\n                                Now the wind is in the street,<br/> \\r\\n                                For the creaking of the oar<br/> \\r\\n                                And the tugging of the sheet!<br/>\\n</p>\\n<p>\\r\\n                                Now the spring is in the town,<br/> \\r\\n                                Who would not a rover be,<br/> \\r\\n                                When the wintered keels go down<br/> \\r\\n                                To the calling of the sea?<br/>\\n</p>\\n',\n",
              " '\\r\\n                                Whether my bark went down at sea,<br/>\\r\\n                                Whether she met with gales,<br/>\\r\\n                                Whether to isles enchanted<br/>\\r\\n                                She bent her docile sails;\\r\\n                            </p>\\n<p>\\r\\n                                By what mystic mooring<br/>\\r\\n                                She is held to-day, —<br/>\\r\\n                                This is the errand of the eye<br/>\\r\\n                                Out upon the bay.\\r\\n                            </p>\\n',\n",
              " \"\\r\\n                                Down at the docks—when the smoke clouds lie,<br/>\\r\\n                                Wind-ript and red, on an angry sky—<br/>\\r\\n                                Coal-dumps and derricks and piled-up bales,<br/>\\r\\n                                Tar and the gear of forgotten sails,<br/>\\r\\n                                Rusted chains and a broken spar<br/>\\r\\n                                (Yesterday's breath on the things that are)<br/>\\r\\n                                A lone, black cat and a snappy cur,<br/>\\r\\n                                Smell of high-tide and of newcut fir,<br/>\\r\\n                                Smell of low-tide, fish, weed!—I swear<br/>\\r\\n                                I love every blessed smell that's there—<br/>\\r\\n                                For, aeons ago when the sea began,<br/>\\r\\n                                My soul was the soul of a sailorman.<br/>\\n</p>\\n<p>\\r\\n                                Down at the docks—where the ships come in,<br/>\\r\\n                                And the endless trails of the sea begin,<br/>\\r\\n                                Where the shining wake of a steamer's track<br/>\\r\\n                                Is barred by the tow of the tugboats black,<br/>\\r\\n                                Where slim yachts dip to the singing spray<br/>\\r\\n                                And a gay wind whistles the world away—<br/>\\r\\n                                Here sad ships lie which will sail no more,<br/>\\r\\n                                But new ships build on the noisy shore,<br/>\\r\\n                                And always the breath of the wind and tide<br/>\\r\\n                                Whispers the lure of the sea outside,<br/>\\r\\n                                Till now and to-morrow and yesterday<br/>\\r\\n                                Are linked by the spell of the faraway!<br/>\\n</p>\\n<p>\\r\\n                                Down at the docks—when the morning's new<br/>\\r\\n                                And the air is gold and the distance blue,<br/>\\r\\n                                There's a pull at the heart! But best of all<br/>\\r\\n                                Is to see the sun shrink, red and small,<br/>\\r\\n                                While the fog steals in (more surely fleet<br/>\\r\\n                                Than the smacks that run from her white-shod feet)<br/>\\r\\n                                And clamours of startled calls arise<br/>\\r\\n                                From bewildered ships that have lost their eyes;<br/>\\r\\n                                The fog horn bellows its deep-mouthed shout,<br/>\\r\\n                                The little lights on the shore blur out<br/>\\r\\n                                And strange, dim shapes pass wistfully<br/>\\r\\n                                With a secret tide to a secret sea.<br/>\\n</p>\\n\",\n",
              " '\\r\\n                                Strolling along<br/>\\r\\n                                By the teeming docks,<br/>\\r\\n                                I watch the ships put out.<br/>\\r\\n                                Black ships that heave and lunge<br/>\\r\\n                                And move like mastodons<br/>\\r\\n                                Arising from lethargic sleep.<br/>\\n</p>\\n<p>\\r\\n                                The fathomed harbor<br/>\\r\\n                                Calls them not nor dares<br/>\\r\\n                                Them to a strain of action,<br/>\\r\\n                                But outward, on and outward,<br/>\\r\\n                                Sounding low-reverberating calls,<br/>\\r\\n                                Shaggy in the half-lit distance,<br/>\\r\\n                                They pass the pointed headland,<br/>\\r\\n                                View the wide, far-lifting wilderness<br/>\\r\\n                                And leap with cumulative speed<br/>\\r\\n                                To test the challenge of the sea.<br/>\\n</p>\\n<p>\\r\\n                                Plunging,<br/>\\r\\n                                Doggedly onward plunging,<br/>\\r\\n                                Into salt and mist and foam and sun.<br/>\\n</p>\\n',\n",
              " '\\r\\n                                There’s a ship on the sea. It is sailing to-night—<br/>\\n<span class=\"indent-double\">Sailing to-night;—</span><br/>\\r\\n                                And father’s aboard, and the moon is all bright—<br/>\\n<span class=\"indent-double\">Shining and bright.</span><br/>\\r\\n                                Dear Moon, he’ll be sailing for many a night—<br/>\\n<span class=\"indent-double\">Sailing from mother and me;</span><br/>\\r\\n                                Oh, follow the ship with your silvery light,<br/>\\n<span class=\"indent-double\">As father sails over the sea!</span><br/>\\n</p>\\n',\n",
              " \"\\r\\n                                A gray day, and the gulls are gone.<br/>\\r\\n                                Visor of mist o'er the sun is drawn.<br/>\\r\\n                                The cordage creaks and the sails all strain,<br/>\\r\\n                                The deck is drenched with the rushing rain,<br/>\\r\\n                                The waves leap strong at the struggling keel,<br/>\\r\\n                                And the ship rides madly with plunge and reel.<br/>\\r\\n                                But the sailors shout as they haul away,<br/>\\r\\n                                And merrily sing, for it's naught care they<br/>\\r\\n                                For the wind that screams on the lee,<br/>\\r\\n                                Or a gray day out at sea.<br/>\\n</p>\\n\",\n",
              " \"\\r\\n                                'T was such a little, little boat<br/>\\r\\n                                That toddled down the bay!<br/>\\r\\n                                'T was such a gallant, gallant sea<br/>\\r\\n                                That beckoned it away!\\r\\n                            </p>\\n<p>\\r\\n                                'T was such a greedy, greedy wave<br/>\\r\\n                                That licked it from the coast;<br/>\\r\\n                                Nor ever guessed the stately sails<br/>\\r\\n                                My little craft was lost!\\r\\n                            </p>\\n\",\n",
              " '\\r\\n                                No stir in the air, no stir in the sea,<br/> \\r\\n                                The Ship was still as she could be;<br/> \\r\\n                                Her sails from heaven received no motion,<br/> \\r\\n                                Her keel was steady in the ocean. \\r\\n                            </p>\\n<p>\\r\\n                                Without either sign or sound of their shock,<br/> \\r\\n                                The waves flow’d over the Inchcape Rock;<br/> \\r\\n                                So little they rose, so little they fell,<br/> \\r\\n                                They did not move the Inchcape Bell.\\r\\n                            </p>\\n<p>\\r\\n                                The Abbot of Aberbrothok<br/> \\r\\n                                Had placed that bell on the Inchcape Rock;<br/> \\r\\n                                On a buoy in the storm it floated and swung,<br/> \\r\\n                                And over the waves its warning rung.\\r\\n                            </p>\\n<p>\\r\\n                                When the Rock was hid by the surge’s swell,<br/> \\r\\n                                The Mariners heard the warning Bell;<br/> \\r\\n                                And then they knew the perilous Rock,<br/> \\r\\n                                And blest the Abbot of Aberbrothok\\r\\n                            </p>\\n<p>\\r\\n                                The Sun in the heaven was shining gay,<br/> \\r\\n                                All things were joyful on that day;<br/> \\r\\n                                The sea-birds scream’d as they wheel’d round,<br/> \\r\\n                                And there was joyaunce in their sound. \\r\\n                            </p>\\n<p>\\r\\n                                The buoy of the Inchcpe Bell was seen<br/> \\r\\n                                A darker speck on the ocean green;<br/> \\r\\n                                Sir Ralph the Rover walk’d his deck,<br/> \\r\\n                                And fix’d his eye on the darker speck. \\r\\n                            </p>\\n<p>\\r\\n                                He felt the cheering power of spring,<br/> \\r\\n                                It made him whistle, it made him sing;<br/> \\r\\n                                His heart was mirthful to excess,<br/> \\r\\n                                But the Rover’s mirth was wickedness. \\r\\n                            </p>\\n<p>\\r\\n                                His eye was on the Inchcape Float;<br/> \\r\\n                                Quoth he, “My men, put out the boat,<br/> \\r\\n                                And row me to the Inchcape Rock,<br/> \\r\\n                                And I’ll plague the Abbot of Aberbrothok.” \\r\\n                            </p>\\n<p>\\r\\n                                The boat is lower’d, the boatmen row,<br/> \\r\\n                                And to the Inchcape Rock they go;<br/> \\r\\n                                Sir Ralph bent over from the boat,<br/> \\r\\n                                And he cut the bell from the Inchcape Float.\\r\\n                            </p>\\n<p>\\r\\n                                Down sank the Bell with a gurgling sound,<br/> \\r\\n                                The bubbles rose and burst around;<br/> \\r\\n                                Quoth Sir Ralph, “The next who comes to the Rock,<br/> \\r\\n                                Won’t bless the Abbot of Aberbrothok.” \\r\\n                            </p>\\n<p>\\r\\n                                Sir ralph the Rover sail’d away,<br/> \\r\\n                                He scour’d the seas for many a day;<br/> \\r\\n                                And now grown rich with plunder’d store,<br/> \\r\\n                                He steers his course for Scotland’s shore. \\r\\n                            </p>\\n<p>\\r\\n                                So thick a haze o’erspreads the sky,<br/> \\r\\n                                They cannot see the sun on high;<br/> \\r\\n                                The wind hath blown a gale all day,<br/> \\r\\n                                At evening it hath died away. \\r\\n                            </p>\\n<p>\\r\\n                                On the deck the Rover takes his stand,<br/> \\r\\n                                So dark it is they see no land.<br/> \\r\\n                                Quoth Sir Ralph, “It will be lighter soon,<br/> \\r\\n                                For there is the dawn of the rising Moon.” \\r\\n                            </p>\\n<p>\\r\\n                                “Canst hear,” said one, “the breakers roar?<br/> \\r\\n                                For methinks we should be near the shore.”<br/> \\r\\n                                “Now, where we are I cannot tell,<br/> \\r\\n                                But I wish we could hear the Inchcape Bell.” \\r\\n                            </p>\\n<p>\\r\\n                                They hear no sound, the swell is strong,<br/> \\r\\n                                Though the wind hath fallen they drift along;<br/> \\r\\n                                Till the vessel strikes with a shivering shock,<br/> \\r\\n                                “Oh Christ! It is the Inchcape Rock!” \\r\\n                            </p>\\n<p>\\r\\n                                Sir Ralph the Rover tore his hair,<br/> \\r\\n                                He curst himself in his despair;<br/> \\r\\n                                The waves rush in on every side,<br/> \\r\\n                                The ship is sinking beneath the tide. \\r\\n                            </p>\\n<p>\\r\\n                                But even in his dying fear,<br/> \\r\\n                                One dreadful sound could the Rover hear;<br/> \\r\\n                                A sound as if with the Inchcape Bell,<br/> \\r\\n                                The Devil below was ringing his knell. \\r\\n                            </p>\\n',\n",
              " '\\r\\n                                The boy stood on the burning deck,<br/>\\n<span class=\"indent-single\">Whence all but him had fled;</span><br/> \\r\\n                                The flame that lit the battle\\'s wreck<br/>\\n<span class=\"indent-single\">Shone round him o\\'er the dead.</span><br/>\\n</p>\\n<p>\\r\\n                                Yet beautiful and bright he stood,<br/>\\n<span class=\"indent-single\">As born to rule the storm;</span><br/> \\r\\n                                A creature of heroic blood,<br/>\\n<span class=\"indent-single\">A proud though childlike form.</span><br/>\\n</p>\\n<p>\\r\\n                                The flames rolled on—he would not go<br/>\\n<span class=\"indent-single\">Without his father\\'s word;</span><br/> \\r\\n                                That father, faint in death below,<br/>\\n<span class=\"indent-single\">His voice no longer heard.</span><br/>\\n</p>\\n<p>\\r\\n                                He called aloud, \"Say, father, say<br/>\\n<span class=\"indent-single\">If yet my task is done?\"</span><br/> \\r\\n                                He knew not that the chieftain lay<br/>\\n<span class=\"indent-single\">Unconscious of his son.</span><br/>\\n</p>\\n<p>\\r\\n                               \"Speak, father!\" once again he cried,<br/>\\n<span class=\"indent-single\">\"If I may yet be gone!\"</span><br/> \\r\\n                                And but the booming shots replied,<br/>\\n<span class=\"indent-single\">And fast the flames rolled on.</span><br/>\\n</p>\\n<p>\\r\\n                                Upon his brow he felt their breath,<br/>\\n<span class=\"indent-single\">And in his waving hair;</span><br/> \\r\\n                                And looked from that lone post of death<br/>\\n<span class=\"indent-single\">In still, yet brave despair.</span><br/>\\n</p>\\n<p>\\r\\n                                And shouted but once more aloud<br/>\\n<span class=\"indent-single\">\"My father! must I stay?\"</span><br/> \\r\\n                                While o\\'er him fast, through sail and shroud,<br/>\\n<span class=\"indent-single\">The wreathing fires made way.</span><br/>\\n</p>\\n<p>\\r\\n                                They wrapt the ship in splendour wild,<br/>\\n<span class=\"indent-single\">They caught the flag on high,</span><br/> \\r\\n                                And streamed above the gallant child<br/>\\n<span class=\"indent-single\">Like banners in the sky.</span><br/>\\n</p>\\n<p>\\r\\n                                Then came a burst of thunder sound—<br/>\\n<span class=\"indent-single\">The boy—oh! where was he?</span><br/> \\r\\n                                —Ask of the winds that far around<br/>\\n<span class=\"indent-single\">With fragments strew the sea;</span><br/>\\n</p>\\n<p>\\r\\n                                With mast, and helm, and pennon fair.<br/>\\n<span class=\"indent-single\">That well had borne their part—</span><br/> \\r\\n                                But the noblest thing that perished there<br/>\\n<span class=\"indent-single\">Was that young, faithful heart. </span><br/>\\n</p>\\n',\n",
              " '\\r\\n                                It was the schooner Hesperus,<br/>\\n<span class=\"indent-single\">That sailed the wintry sea;</span><br/>\\r\\n                                And the skipper had taken his little daughter,<br/>\\n<span class=\"indent-single\">To bear him company.</span><br/>\\n</p>\\n<p>\\r\\n                                Blue were her eyes as the fairy flax,<br/>\\n<span class=\"indent-single\">Her checks like the dawn of day,</span><br/>\\r\\n                                And her bosom white as the hawthorn buds,<br/>\\n<span class=\"indent-single\">That ope in the month of May.</span><br/>\\n</p>\\n<p>\\r\\n                                The skipper, he stood beside the helm,<br/>\\n<span class=\"indent-single\">His pipe was in his mouth,</span><br/>\\r\\n                                And he watched how the veering flaw did blow<br/>\\n<span class=\"indent-single\">The smoke now west, now south.</span><br/>\\n</p>\\n<p>\\r\\n                                Then up and spake an old sailor,<br/>\\n<span class=\"indent-single\">Had sailed to the Spanish Main,</span><br/>\\r\\n                                \"I pray thee, put into yonder port,<br/>\\n<span class=\"indent-single\">For I fear the hurricane.</span><br/>\\n</p>\\n<p>\\r\\n                                \"Last night, the moon had a golden ring,<br/>\\n<span class=\"indent-single\">And to-night no moon we see!\"</span><br/>\\r\\n                                The skipper, he blew a whiff from his pipe,<br/>\\n<span class=\"indent-single\">And a scornful laugh laughed he.</span><br/>\\n</p>\\n<p>\\r\\n                                Colder and louder blew the wind,<br/>\\n<span class=\"indent-single\">A gale from the northeast;</span><br/>\\r\\n                                The snow fell hissing in the brine,<br/>\\n<span class=\"indent-single\">And the billows frothed like yeast.</span><br/>\\n</p>\\n<p>\\r\\n                                Down came the storm, and smote amain<br/>\\n<span class=\"indent-single\">The vessel in its strength;</span><br/>\\r\\n                                She shuddered and paused, like a frighted steed,<br/>\\n<span class=\"indent-single\">Then leaped her cable\\'s length.</span><br/>\\n</p>\\n<p>\\r\\n                                \"Come hither! come hither! my little daughter,<br/>\\n<span class=\"indent-single\">And do not tremble so;</span><br/>\\r\\n                                For I can weather the roughest gale<br/>\\n<span class=\"indent-single\">That ever wind did blow.\"</span><br/>\\n</p>\\n<p>\\r\\n                                He wrapped her warm in his seaman\\'s coat,<br/>\\n<span class=\"indent-single\">Against the stinging blast:</span><br/>\\r\\n                                He cut a rope from a broken spar,<br/>\\n<span class=\"indent-single\">And bound her to the mast.</span><br/>\\n</p>\\n<p>\\r\\n                                \"O father! I hear the church bells ring,<br/>\\n<span class=\"indent-single\">Oh say, what may it be?\"</span><br/>\\r\\n                                \"\\'Tis a fog bell on a rock-bound coast!\"<br/>\\n<span class=\"indent-single\">And he steered for the open sea.</span><br/>\\n</p>\\n<p>\\r\\n                                \"O father! I hear the sound of guns,<br/>\\n<span class=\"indent-single\">Oh say, what may it be?\"</span><br/>\\r\\n                                \"Some ship in distress, that can not live<br/>\\n<span class=\"indent-single\">In such an angry sea!\"</span><br/>\\n</p>\\n<p>\\r\\n                                \"O father! I see a gleaming light,<br/>\\n<span class=\"indent-single\">Oh say, what may it be?\"</span><br/>\\r\\n                                But the father answered never a word,<br/>\\n<span class=\"indent-single\">A frozen corpse was he.</span><br/>\\n</p>\\n<p>\\r\\n                                Lashed to the helm, all stiff and stark,<br/>\\n<span class=\"indent-single\">With his face turned to the skies,</span><br/>\\r\\n                                The lantern gleamed through the gleaming snow<br/>\\n<span class=\"indent-single\">On his fixed and glassy eyes.</span><br/>\\n</p>\\n<p>\\r\\n                                Then the maiden clasped her hands, and prayed<br/>\\n<span class=\"indent-single\">That saved she might be;</span><br/>\\r\\n                                And she thought of Christ, who stilled the wave<br/>\\n<span class=\"indent-single\">On the lake of Galilee.</span><br/>\\n</p>\\n<p>\\r\\n                                And fast through the midnight dark and drear,<br/>\\n<span class=\"indent-single\">Through the whistling sleet and snow,</span><br/>\\r\\n                                Like a sheeted ghost, the vessel swept<br/>\\n<span class=\"indent-single\">Tow\\'rds the reef of Norman\\'s Woe.</span><br/>\\n</p>\\n<p>\\r\\n                                And ever the fitful gusts between<br/>\\n<span class=\"indent-single\">A sound came from the land:</span><br/>\\r\\n                                It was the sound of the trampling surf<br/>\\n<span class=\"indent-single\">On the rocks and the hard sea sand.</span><br/>\\n</p>\\n<p>\\r\\n                                The breakers were right beneath her bows,<br/>\\n<span class=\"indent-single\">She drifted a dreary wreck,</span><br/>\\r\\n                                And a whooping billow swept the crew<br/>\\n<span class=\"indent-single\">Like icicles from her deck.</span><br/>\\n</p>\\n<p>\\r\\n                                She struck where the white and fleecy waves<br/>\\n<span class=\"indent-single\">Looked soft as carded wool,</span><br/>\\r\\n                                But the cruel rocks, they gored her side<br/>\\n<span class=\"indent-single\">Like the horns of an angry bull.</span><br/>\\n</p>\\n<p>\\r\\n                                Her rattling shrouds, all sheathed in ice,<br/>\\n<span class=\"indent-single\">With the masts, went by the board;</span><br/>\\r\\n                                Like a vessel of glass, she stove and sank,<br/>\\n<span class=\"indent-single\">Ho! ho! the breakers roared!</span><br/>\\n</p>\\n<p>\\r\\n                                At day break, on the bleak seabeach,<br/>\\n<span class=\"indent-single\">A fisherman stood aghast,</span><br/>\\r\\n                                To see the form of a maiden fair<br/>\\n<span class=\"indent-single\">Lashed close to a drifting mast.</span><br/>\\n</p>\\n<p>\\r\\n                                The salt sea was frozen on her breast,<br/>\\n<span class=\"indent-single\">The salt tears in her eyes;</span><br/>\\r\\n                                And he saw her hair, like the brown seaweed,<br/>\\n<span class=\"indent-single\">On the billows fall and rise.</span><br/>\\n</p>\\n<p>\\r\\n                                Such was the wreck of the Hesperus<br/>\\n<span class=\"indent-single\">In the midnight and the snow:</span><br/>\\r\\n                                Heav\\'n save us all from a death like this<br/>\\n<span class=\"indent-single\">On the reef of Norman\\'s Woe!</span><br/>\\n</p>\\n',\n",
              " '\\r\\n                                \"Up the main-top-mast, ho!\"<br/>\\n<span class=\"indent-quintuple\">The storm was loud,</span><br/>\\r\\n                                And the deep midnight muffled up her head,<br/>\\r\\n                                Leaving no ray.<br/>\\n</p>\\n<p>\\n<span class=\"indent-triple\">By the red binnacle,</span><br/>\\r\\n                                I saw the sea-boy. His young cheek was pale,<br/>\\r\\n                                And his lips trembled. But he dar\\'d not hear<br/>\\r\\n                                That hoarse command repeated. So he sprang,<br/>\\r\\n                                With slender foot amid the slippery shrouds.<br/>\\n</p>\\n<p>\\r\\n                                He, oft by moonlight watch, had lur\\'d my car,<br/>\\r\\n                                With everlasting stories of his home,<br/>\\r\\n                                And of his mother. His fair brow told tales<br/>\\r\\n                                Of household kisses, and of gentle hands<br/>\\r\\n                                That bound it when it ached, and laid it down<br/>\\r\\n                                On the soft pillow, with a curtaining care.<br/>\\n</p>\\n<p>\\r\\n                                And he had sometimes spoken of the cheer<br/>\\r\\n                                That waited him, when, wearied from his school,<br/>\\r\\n                                At winter\\'s eve, he came. Then, he would pause,<br/>\\r\\n                                For his high beating bosom threw a chain<br/>\\r\\n                                O\\'er his proud lips, or else he would have sigh\\'d,<br/>\\r\\n                                In deep remorse, for leaving such a home.<br/>\\n</p>\\n<p>\\r\\n                                And he would haste away, and pace the deck,<br/>\\r\\n                                More rapidly, as if to hide from me,<br/>\\r\\n                                The gushing tear. I mark\\'d the inward strife<br/>\\r\\n                                Unquestioning, save by a silent prayer<br/>\\r\\n                                That the tear wrung so bitterly, might work<br/>\\r\\n                                The sea-boy\\'s good, and wash away all trace<br/>\\r\\n                                Of disobedience. Now, the same big tear<br/>\\r\\n                                Hung like a pearl upon him, as he climb\\'d<br/>\\r\\n                                And grappled to the mast.<br/>\\n</p>\\n<p>\\n<span class=\"indent-quintuple\">I watch\\'d his toil,</span><br/>\\r\\n                                With strange foreboding, till he seem\\'d a speck<br/>\\r\\n                                Upon the ebon bosom of the cloud.<br/>\\r\\n                                And I remember\\'d that he once had said,<br/>\\n<i>\"I fear I shall not see my home again:\"</i><br/>\\r\\n                                And sad the memory of those mournful words,<br/>\\r\\n                                Dwelt with me, as he pass\\'d above my sight,<br/>\\r\\n                                Into thick darkness.<br/>\\n</p>\\n<p>\\n<span class=\"indent-triple\">The wild blast swept on.</span><br/>\\r\\n                                The strong ship toss\\'d.<br/>\\n<span class=\"indent-triple\">Shuddering, I heard a plunge,</span><br/>\\r\\n                                A heavy plunge,—a gurgling \\'mid the wave.<br/>\\r\\n                                I shouted to the crew. <i>In vain! In vain!</i><br/>\\r\\n                                The ship held on her way. And never more<br/>\\r\\n                                Shall that poor, delicate sea-boy raise his head,<br/>\\r\\n                                To do the bidding of those roughen\\'d men,<br/>\\r\\n                                Whose home is on the sea.<br/>\\n</p>\\n<p>\\n<span class=\"indent-quintuple\">And never more</span><br/>\\r\\n                                May his fond mother strain him to her breast,<br/>\\r\\n                                Weeping that hardship thus should bronze the brow,<br/>\\r\\n                                To her so beautiful, nor the kind sire<br/>\\r\\n                                Make glad by his forgiveness, the rash youth<br/>\\r\\n                                Who wander\\'d from his home, to throw the wealth<br/>\\r\\n                                Of his warm feelings on the faithless sea.<br/>\\n</p>\\n',\n",
              " '\\r\\n                                Beneath the low-hung night cloud<br/>\\n<span class=\"indent-single\">That raked her splintering mast</span><br/>\\r\\n                                The good ship settled slowly,<br/>\\n<span class=\"indent-single\">The cruel leak gained fast.</span><br/>\\n</p>\\n<p>\\r\\n                                Over the awful ocean<br/>\\n<span class=\"indent-single\">Her signal guns pealed out.</span><br/>\\r\\n                                Dear God! was that Thy answer<br/>\\n<span class=\"indent-single\">From the horror round about?</span><br/>\\n</p>\\n<p>\\r\\n                                A voice came down the wild wind,<br/>\\n<span class=\"indent-single\">\"Ho! ship ahoy!\" its cry:</span><br/>\\r\\n                               \"Our stout _Three Bells_ of Glasgow<br/>\\n<span class=\"indent-single\">Shall stand till daylight by!\"</span><br/>\\n</p>\\n<p>\\r\\n                                Hour after hour crept slowly,<br/>\\n<span class=\"indent-single\">Yet on the heaving swells</span><br/>\\r\\n                                Tossed up and down the ship-lights,<br/>\\n<span class=\"indent-single\">The lights of the _Three Bells_!</span><br/>\\n</p>\\n<p>\\r\\n                                And ship to ship made signals,<br/>\\n<span class=\"indent-single\">Man answered back to man,</span><br/>\\r\\n                                While oft, to cheer and hearten,<br/>\\n<span class=\"indent-single\">The _Three Bells_ nearer ran:</span><br/>\\n</p>\\n<p>\\r\\n                                And the captain from her taffrail<br/>\\n<span class=\"indent-single\">Sent down his hopeful cry.</span><br/>\\r\\n                               \"Take heart! Hold on!\" he shouted,<br/>\\n<span class=\"indent-single\">\"The _Three Bells_ shall stand by!\"</span><br/>\\n</p>\\n<p>\\r\\n                                All night across the waters<br/>\\n<span class=\"indent-single\">The tossing lights shone clear;</span><br/>\\r\\n                                All night from reeling taffrail<br/>\\n<span class=\"indent-single\">The _Three Bells_ sent her cheer.</span><br/>\\n</p>\\n<p>\\r\\n                                And when the dreary watches<br/>\\n<span class=\"indent-single\">Of storm and darkness passed,</span><br/>\\r\\n                                Just as the wreck lurched under,<br/>\\n<span class=\"indent-single\">All souls were saved at last.</span><br/>\\n</p>\\n<p>\\r\\n                                Sail on, _Three Bells_, forever,<br/>\\n<span class=\"indent-single\">In grateful memory sail!</span><br/>\\r\\n                                Ring on, _Three Bells_ of rescue,<br/>\\n<span class=\"indent-single\">Above the wave and gale!</span><br/>\\n</p>\\n<p>\\r\\n                                Type of the Love eternal,<br/>\\n<span class=\"indent-single\">Repeat the Master\\'s cry,</span><br/>\\r\\n                                As tossing through our darkness<br/>\\n<span class=\"indent-single\">The lights of God draw nigh!</span><br/>\\n</p>\\n',\n",
              " \"\\r\\n                                It tossed and tossed, —<br/>\\r\\n                                A little brig I knew, —<br/>\\r\\n                                O'ertook by blast,<br/>\\r\\n                                It spun and spun,<br/>\\r\\n                                And groped delirious, for morn.\\r\\n                            </p>\\n<p>\\r\\n                                It slipped and slipped,<br/>\\r\\n                                As one that drunken stepped;<br/>\\r\\n                                Its white foot tripped,<br/>\\r\\n                                Then dropped from sight.\\r\\n                            </p>\\n<p>\\r\\n                                Ah, brig, good-night<br/>\\r\\n                                To crew and you;<br/>\\r\\n                                The ocean's heart too smooth, too blue,<br/>\\r\\n                                To break for you.\\r\\n                            </p>\\n\",\n",
              " \"\\r\\n                                The struggle is over! The storm-cloud at last<br/>\\r\\n                                Has emptied itself, and the fury is past!<br/>\\r\\n                                The ship is a ruin! The mariners wait<br/>\\r\\n                                Their summons to enter eternity's gate.<br/>\\r\\n                                The remnant of canvass that flaps in the wind,<br/>\\r\\n                                Their signal of woe, they may soon leave behind<br/>\\r\\n                                To give its last flutter above the wild surge,<br/>\\r\\n                                As all it betokens the deep shall immerge.<br/>\\r\\n                                They see rising round them a chill, restless grave,<br/>\\r\\n                                While Death loudly calls them from out the hoarse wave.<br/>\\n</p>\\n<p>\\r\\n                                'Come to me! come! ye have no where to flee,<br/>\\r\\n                                But down in the waters for quiet with me!<br/>\\r\\n                                My thin, winding arms, ever naked and cold,<br/>\\r\\n                                Have nothing to warm them but what they infold.<br/>\\r\\n                                My being unlawful I have to sustain<br/>\\r\\n                                By feeding on life, that from others I drain!<br/>\\r\\n                                The sweet buds of childhood, youth's beautiful bloom,<br/>\\r\\n                                And age's ripe clusters I pluck and consume.<br/>\\r\\n                                I traverse the world by the light that I steal<br/>\\r\\n                                Alone from the eyes that in darkness I seal!<br/>\\n</p>\\n<p>\\r\\n                                'In ocean's black chambers I welcome the forms<br/>\\r\\n                                That rush to my kingdom, through shipwreck and storms.<br/>\\r\\n                                The babe never prattles or climbs on the knee<br/>\\r\\n                                Of him, who is low in the cold, deep sea.<br/>\\r\\n                                The eye of his widow grows sunken and dim,<br/>\\r\\n                                With looking and waking and weeping for him.<br/>\\r\\n                                The parent's fond heart slowly bleeds for the son,<br/>\\r\\n                                Till I, for my throne, a new trophy have won!<br/>\\r\\n                                Come! and the mourners away on the shore<br/>\\r\\n                                Shall never behold you, or hear of you more!'<br/>\\n</p>\\n<p>\\r\\n                                Hush! hush! thou pale monarch! a voice from above!<br/>\\r\\n                                It chides thee—its tones are of mercy and love.<br/>\\r\\n                                Away! king of terrors! In silence retire.<br/>\\r\\n                                Though high is thy throne, there is one that is higher!<br/>\\r\\n                                The sinking have looked from the billows that swell<br/>\\r\\n                                Around them, to Him, who the surges can quell.<br/>\\r\\n                                And He, who before has the tempest allayed,<br/>\\r\\n                                And said to the mariner, 'Be not afraid!'<br/>\\r\\n                                Is now walking over the waters, to tread<br/>\\r\\n                                Upon the white spray that is pluming thy head!<br/>\\n</p>\\n<p>\\r\\n                                A sail! ho! a sail in the moment of need!<br/>\\r\\n                                On yonder mad breakers she's riding with speed.<br/>\\r\\n                                A rescue! it comes in the light little boat,<br/>\\r\\n                                That's lowered and manned o'er the perils to float.<br/>\\r\\n                                While life for the perishing, hope for despair,<br/>\\r\\n                                And joy and reward for affection are there,<br/>\\r\\n                                With rocking and tossing, as onward she steers,<br/>\\r\\n                                And shooting and plunging, the wreck as she nears<br/>\\r\\n                                One moment, and then the last wave will be crossed!<br/>\\r\\n                                Yet all is too late if that unit be lost!<br/>\\n</p>\\n<p>\\r\\n                                The helper and helpless, while panting to meet,<br/>\\r\\n                                Have sent forth their voices each other to greet.<br/>\\r\\n                                And when did those voices go out on the air,<br/>\\r\\n                                An import so great, such an errand to bear?<br/>\\r\\n                                Emotions too mighty for sound to convey,<br/>\\r\\n                                Or, long for the spirit to feel in the clay—<br/>\\r\\n                                A pulse never known in their bosoms before,<br/>\\r\\n                                Is each proving now, at the dash of the oar.<br/>\\r\\n                                And sweet to their hearts will the memory be<br/>\\r\\n                                Of these clasping hands on the wild, deep sea!<br/>\\n</p>\\n\",\n",
              " '\\r\\n                                Adrift! A little boat adrift!<br/>\\n<span class=\"indent-single\">And night is coming down!</span><br/>\\r\\n                                Will no one guide a little boat<br/>\\n<span class=\"indent-single\">Unto the nearest town?</span><br/>\\n</p>\\n<p>\\r\\n                                So sailors say, on yesterday,<br/>\\n<span class=\"indent-single\">Just as the dusk was brown,</span><br/>\\r\\n                                One little boat gave up its strife,<br/>\\n<span class=\"indent-single\">And gurgled down and down.</span><br/>\\n</p>\\n<p>\\r\\n                                But angels say, on yesterday,<br/>\\n<span class=\"indent-single\">Just as the dawn was red,</span><br/>\\r\\n                                One little boat o\\'erspent with gales<br/>\\r\\n                                Retrimmed its masts, redecked its sails<br/>\\n<span class=\"indent-single\">Exultant, onward sped!</span><br/>\\n</p>\\n',\n",
              " '\\r\\n                                Two swimmers wrestled on the spar<br/>\\r\\n                                Until the morning sun,<br/>\\r\\n                                When one turned smiling to the land.<br/>\\r\\n                                O God, the other one!\\r\\n                            </p>\\n<p>\\r\\n                                The stray ships passing spied a face<br/>\\r\\n                                Upon the waters borne,<br/>\\r\\n                                With eyes in death still begging raised,<br/>\\r\\n                                And hands beseeching thrown.\\r\\n                            </p>\\n',\n",
              " '\\r\\n                                Glee! The great storm is over!<br/>\\r\\n                                Four have recovered the land;<br/>\\r\\n                                Forty gone down together<br/>\\r\\n                                Into the boiling sand.\\r\\n                            </p>\\n<p>\\r\\n                                Ring, for the scant salvation!<br/>\\r\\n                                Toll, for the bonnie souls, —<br/>\\r\\n                                Neighbor and friend and bridegroom,<br/>\\r\\n                                Spinning upon the shoals!\\r\\n                            </p>\\n<p>\\r\\n                                How they will tell the shipwreck<br/>\\r\\n                                When winter shakes the door,<br/>\\r\\n                                Till the children ask, \"But the forty?<br/>\\r\\n                                Did they come back no more?\"\\r\\n                            </p>\\n<p>\\r\\n                                Then a silence suffuses the story,<br/>\\r\\n                                And a softness the teller\\'s eye;<br/>\\r\\n                                And the children no further question,<br/>\\r\\n                                And only the waves reply.\\r\\n                            </p>\\n',\n",
              " '\\r\\n                                By what rude waves hast thou been tossed,<br/>\\n<span class=\"indent-single\">To gain this quiet beach?</span><br/>\\r\\n                                What wide-spread waters hast thou crossed,<br/>\\n<span class=\"indent-single\">This peaceful shore to reach?</span><br/>\\n</p>\\n<p>\\r\\n                                An awful secret dost thou tell<br/>\\n<span class=\"indent-single\">About the yawning deep,</span><br/>\\r\\n                                That, while her billows war and swell,<br/>\\n<span class=\"indent-single\">They most profoundly keep.</span><br/>\\n</p>\\n<p>\\r\\n                                Thou speakest of one whose weary frame<br/>\\n<span class=\"indent-single\">Has sought repose on thee;</span><br/>\\r\\n                                But not of kindred, home, or name,<br/>\\n<span class=\"indent-single\">Sad outcast of the sea!</span><br/>\\n</p>\\n<p>\\r\\n                                Thou giv\\'st no record of his birth,<br/>\\n<span class=\"indent-single\">No token of the clime,</span><br/>\\r\\n                                Where he was last a child of earth,<br/>\\n<span class=\"indent-single\">Or when he passed from time.</span><br/>\\n</p>\\n<p>\\r\\n                                And who must now, on some far shore,<br/>\\n<span class=\"indent-single\">Await the coming sail</span><br/>\\r\\n                                Of him, they will behold no more<br/>\\n<span class=\"indent-single\">Till mortal sight shall fail?</span><br/>\\n</p>\\n<p>\\r\\n                                For fearful things dost thou present<br/>\\n<span class=\"indent-single\">Before the spirit\\'s view;</span><br/>\\r\\n                                The parting bark! the canvass rent!<br/>\\n<span class=\"indent-single\">The helpless, dying crew!</span><br/>\\n</p>\\n<p>\\r\\n                                Of one dread scene the fatal whole,<br/>\\n<span class=\"indent-single\">In thought, I hear and see.</span><br/>\\r\\n                                It chills my blood—it makes my soul<br/>\\n<span class=\"indent-single\">Grow sick to look at thee.</span><br/>\\n</p>\\n<p>\\r\\n                                \\'The seas must render up their dead!\\'<br/>\\n<span class=\"indent-single\">Is all thou dost reply;</span><br/>\\r\\n                                While o\\'er thee, cold and restless bed,<br/>\\n<span class=\"indent-single\">The tide rolls proud and high!</span><br/>\\n</p>\\n<p>\\r\\n                                The guilty deep is taking back<br/>\\n<span class=\"indent-single\">The witness of her wrath,</span><br/>\\r\\n                                To bury it with every track<br/>\\n<span class=\"indent-single\">That marks its troubled path!</span><br/>\\n</p>\\n',\n",
              " '\\r\\n                                See where she stands, on the wet sea-sands,<br/>\\n<span class=\"indent-single\">Looking across the water:</span><br/>\\r\\n                                Wild is the night, but wilder still<br/>\\n<span class=\"indent-single\">The face of the fisher\\'s daughter.</span><br/>\\n</p>\\n<p>\\r\\n                                What does she there, in the lightning\\'s glare,<br/>\\n<span class=\"indent-single\">What does she there, I wonder?</span><br/>\\r\\n                                What dread demon drags her forth<br/>\\n<span class=\"indent-single\">In the night and wind and thunder?</span><br/>\\n</p>\\n<p>\\r\\n                                Is it the ghost that haunts this coast?—<br/>\\n<span class=\"indent-single\">The cruel waves mount higher,</span><br/>\\r\\n                                And the beacon pierces the stormy dark<br/>\\n<span class=\"indent-single\">With its javelin of fire.</span><br/>\\n</p>\\n<p>\\r\\n                                Beyond the light of the beacon bright<br/>\\n<span class=\"indent-single\">A merchantman is tacking;</span><br/>\\r\\n                                The hoarse wind whistling through the shrouds,<br/>\\n<span class=\"indent-single\">And the brittle topmasts cracking.</span><br/>\\n</p>\\n<p>\\r\\n                                The sea it moans over dead men\\'s bones,<br/>\\n<span class=\"indent-single\">The sea it foams in anger;</span><br/>\\r\\n                                The curlews swoop through the resonant air<br/>\\n<span class=\"indent-single\">With a warning cry of danger.</span><br/>\\n</p>\\n<p>\\r\\n                                The star-fish clings to the sea-weed\\'s rings<br/>\\n<span class=\"indent-single\">In a vague, dumb sense of peril;</span><br/>\\r\\n                                And the spray, with its phantom-fingers, grasps<br/>\\n<span class=\"indent-single\">At the mullein dry and sterile.</span><br/>\\n</p>\\n<p>\\r\\n                                O, who is she that stands by the sea,<br/>\\n<span class=\"indent-single\">In the lightning\\'s glare, undaunted?—</span><br/>\\r\\n                                Seems this now like the coast of hell<br/>\\n<span class=\"indent-single\">By one white spirit haunted!</span><br/>\\n</p>\\n<p>\\r\\n                                The night drags by; and the breakers die<br/>\\n<span class=\"indent-single\">Along the ragged ledges;</span><br/>\\r\\n                                The robin stirs in his drenchéd nest,<br/>\\n<span class=\"indent-single\">The hawthorn blooms on the hedges.</span><br/>\\n</p>\\n<p>\\r\\n                                In shimmering lines, through the dripping pines,<br/>\\n<span class=\"indent-single\">The stealthy morn advances;</span><br/>\\r\\n                                And the heavy sea-fog straggles back<br/>\\n<span class=\"indent-single\">Before those bristling lances.</span><br/>\\n</p>\\n<p>\\r\\n                                Still she stands on the wet sea-sands;<br/>\\n<span class=\"indent-single\">The morning breaks above her,</span><br/>\\r\\n                                And the corpse of a sailor gleams on the rocks—<br/>\\n<span class=\"indent-single\">What if it were her lover?</span><br/>\\n</p>\\n',\n",
              " '\\r\\n                                How slow yon bark moves o\\'er the trembling waves<br/>\\n<span class=\"indent-single\">While her low flag the sighing breezes sweep!</span><br/>\\r\\n                                She comes, a mourner, from the new-made grave<br/>\\n<span class=\"indent-single\">Of him whom she has buried in the deep.</span><br/>\\n</p>\\n<p>\\r\\n                                With sorrow heavy-laden, she appears;<br/>\\n<span class=\"indent-single\">Beneath its weight must many a spirit bend!</span><br/>\\r\\n                                For hope\\'s last ray she comes to quench in tears<br/>\\n<span class=\"indent-single\">At once, for parent, brother, sister, friend.</span><br/>\\n</p>\\n<p>\\r\\n                                Their loved one she has left upon her way!—<br/>\\n<span class=\"indent-single\">Low she has laid him in an ocean tomb,</span><br/>\\r\\n                                With wat\\'ry mountains o\\'er his youthful clay,<br/>\\n<span class=\"indent-single\">Where human sight shall never pierce the gloom.</span><br/>\\n</p>\\n<p>\\r\\n                                To eyes that oft have sought her coming sail,<br/>\\n<span class=\"indent-single\">That they again might rest with joy on him,</span><br/>\\r\\n                                Her silent signal tells the fearful tale,<br/>\\n<span class=\"indent-single\">While inward anguish turns their vision dim.</span><br/>\\n</p>\\n<p>\\r\\n                                EDWIN! can virtue, promise, early worth,<br/>\\n<span class=\"indent-single\">And warm affection, such as thine, depart?</span><br/>\\r\\n                                Can one like thee be summoned from the earth,<br/>\\n<span class=\"indent-single\">And yet, the living lay it not to heart?</span><br/>\\n</p>\\n<p>\\r\\n                                Oh! there is sadness where thy face was seen,<br/>\\n<span class=\"indent-single\">And lamentation where thy voice was known,</span><br/>\\r\\n                                From those who feel the gate of death between<br/>\\n<span class=\"indent-single\">Thy bright, immortal spirit, and their own.</span><br/>\\n</p>\\n<p>\\r\\n                                And like the wailing surges of the sea,<br/>\\n<span class=\"indent-single\">That o\\'er thy sleeping clay, unceasing roll,</span><br/>\\r\\n                                Sorrow\\'s dark waves, to those who mourn for thee,<br/>\\n<span class=\"indent-single\">Rise in their might, to overwhelm the soul.</span><br/>\\n</p>\\n<p>\\r\\n                                Yet, woe is but for them. For thee, above<br/>\\n<span class=\"indent-single\">Is joy unmingled, which the blessed know!</span><br/>\\r\\n                                Thy voice is tuned to praise eternal love,<br/>\\n<span class=\"indent-single\">While sighs and sadness fill thy place below.</span><br/>\\n</p>\\n<p>\\r\\n                                Long have the bending angels beckoned thee<br/>\\n<span class=\"indent-single\">To quit this thorny vale and come on high;</span><br/>\\r\\n                                Thy years on earth were few—and thou art free<br/>\\n<span class=\"indent-single\">From pain, from care and every mortal tie!</span><br/>\\n</p>\\n<p>\\r\\n                                Yes—thou hast crossed the cold and swelling tide<br/>\\n<span class=\"indent-single\">Of Jordan, borne upon thy Saviour\\'s breast.</span><br/>\\r\\n                                Thou now art safe where every tear is dried,<br/>\\n<span class=\"indent-single\">Where pain is ended, and the weary rest.</span><br/>\\n</p>\\n<p>\\r\\n                                For He who bids the stormy billows sleep,<br/>\\n<span class=\"indent-single\">Placed his soft hand beneath thy sinking head;</span><br/>\\r\\n                                He, thy best Friend, received, upon the deep,<br/>\\n<span class=\"indent-single\">His own redeemed, from off thy dying bed.</span><br/>\\n</p>\\n<p>\\r\\n                                And, shall we wish thy young and blessed feet<br/>\\n<span class=\"indent-single\">Back from the holy hills they now have trod?</span><br/>\\r\\n                                Or hold our own prepared, that we may meet<br/>\\n<span class=\"indent-single\">Thy sainted spirit in its home with God?</span><br/>\\n</p>\\n<p>\\r\\n                                He is Eternal Wisdom—we are dust;<br/>\\n<span class=\"indent-single\">And meekly at his footstool may we dwell!</span><br/>\\r\\n                                His hand lies heavy on us—yet we trust<br/>\\n<span class=\"indent-single\">In him alone who \\'doeth all things well!\\'</span><br/>\\n</p>\\n<p>\\r\\n                                EDWIN! beloved, departed one, adieu!<br/>\\n<span class=\"indent-single\">Since He, who lent thee, has recalled his own,</span><br/>\\r\\n                                We bow in silence, while, to mortal view,<br/>\\n<span class=\"indent-single\">Clouds and thick darkness hang around his throne!</span><br/>\\n</p>\\n',\n",
              " '\\r\\n                                A gallant ship! and trim and tight,<br/>\\n<span class=\"indent-single\">Across the deep she speeds away,</span><br/>\\r\\n                                While mantled with the golden light<br/>\\n<span class=\"indent-single\">The sun throws back, at close of day.</span><br/>\\r\\n                                And who, that sees that stately ship<br/>\\r\\n                                Her haughty stem in ocean dip,<br/>\\r\\n                                Has ever seen a prouder one<br/>\\r\\n                                Illumined by a setting sun?<br/>\\n</p>\\n<p>\\r\\n                                The breath of summer sweet and soft,<br/>\\n<span class=\"indent-single\">Her canvass swells, while, wide and fair,</span><br/>\\r\\n                                And floating from her mast aloft,<br/>\\n<span class=\"indent-single\">Her flag plays off on gentle air.</span><br/>\\r\\n                                And as her steady prow divides<br/>\\r\\n                                The waters to her even sides,<br/>\\r\\n                                She passes like a bird, between<br/>\\r\\n                                The peaceful deep and sky serene.<br/>\\n</p>\\n<p>\\r\\n                                And now grave twilight\\'s tender veil<br/>\\n<span class=\"indent-single\">The moon, with shafts of silver, rends;</span><br/>\\r\\n                                And down on billow, deck and sail<br/>\\n<span class=\"indent-single\">Her placid lustre gently sends.</span><br/>\\r\\n                                The stars, as if the arch of blue<br/>\\r\\n                                Were pierced to let the glory through,<br/>\\r\\n                                From their bright world look out and win<br/>\\r\\n                                The thoughts of man to enter in.<br/>\\n</p>\\n<p>\\r\\n                                And, many a heart that\\'s warm and true<br/>\\n<span class=\"indent-single\">That noble ship bears on with pride;</span><br/>\\r\\n                                While \\'mid the many forms, are two<br/>\\n<span class=\"indent-single\">Of passing beauty, side by side.</span><br/>\\r\\n                                A fair young mother standing by<br/>\\r\\n                                Her bosom\\'s lord, has fixed her eye<br/>\\r\\n                                With his, upon the blessed star<br/>\\r\\n                                That points them to their home afar.<br/>\\n</p>\\n<p>\\r\\n                                Their thoughts fly forth to those, who there<br/>\\n<span class=\"indent-single\">Are waiting now, with joy to hail</span><br/>\\r\\n                                The moment that shall grant their prayer,<br/>\\n<span class=\"indent-single\">And heave in sight their coming sail.</span><br/>\\r\\n                                For, many a time the changeful queen<br/>\\r\\n                                Of night has vanished, and been seen<br/>\\r\\n                                Since o\\'er a foreign shore to roam,<br/>\\r\\n                                They passed from that dear, native home.<br/>\\n</p>\\n<p>\\r\\n                                The babe, that on its father\\'s breast,<br/>\\n<span class=\"indent-single\">Has let its little eyelids close,</span><br/>\\r\\n                                The mother bears below to rest,<br/>\\n<span class=\"indent-single\">And sinks with it in sweet repose.</span><br/>\\r\\n                                The while a sailor climbs the shroud,<br/>\\r\\n                                And in the distance spies a cloud:<br/>\\r\\n                                Low, like a swelling seed it lies<br/>\\r\\n                                From which the towering storm shall rise.<br/>\\n</p>\\n<p>\\r\\n                                The powers of air are now about<br/>\\n<span class=\"indent-single\">To muster from their hidden caves;</span><br/>\\r\\n                                The winds unchained come rushing out,<br/>\\n<span class=\"indent-single\">And into mountains heap the waves.</span><br/>\\r\\n                                Upon the sky the darkness spreads!<br/>\\r\\n                                The tempest on the ocean treads;<br/>\\r\\n                                And yawning caverns are its track<br/>\\r\\n                                Amid the waters wild and black.<br/>\\n</p>\\n<p>\\r\\n                                Its voice—but, who shall give the sounds<br/>\\n<span class=\"indent-single\">Of that dread voice?—The ship is dashed</span><br/>\\r\\n                                In roaring depths—and now, she bounds<br/>\\n<span class=\"indent-single\">On high, by foaming surges lashed.</span><br/>\\r\\n                                And how is she the storm to bide?<br/>\\r\\n                                Its sweeping wings are strong and wide!<br/>\\r\\n                                The hand of man has loss control<br/>\\r\\n                                O\\'er her!—his work is for the soul!<br/>\\n</p>\\n<p>\\r\\n                                She\\'s in a scene of nature\\'s war.<br/>\\n<span class=\"indent-single\">The winds and waters are at strife;</span><br/>\\r\\n                                And both with her, contending for<br/>\\n<span class=\"indent-single\">The brittle thread of human life</span><br/>\\r\\n                                That she contains; while sail and shroud<br/>\\r\\n                                Have yielded; and her head is bowed.<br/>\\r\\n                                Then, who that slender thread shall keep,<br/>\\r\\n                                But He, whose finger moves the deep?<br/>\\n</p>\\n<p>\\r\\n                                A moment—and the angry blast<br/>\\n<span class=\"indent-single\">Has done its work and hurried on.</span><br/>\\r\\n                                With broken cables, shivered mast;<br/>\\n<span class=\"indent-single\">With riven sides, and anchor gone,</span><br/>\\r\\n                                Behold the ship in ruin lie,<br/>\\r\\n                                While from the waves a piercing cry<br/>\\r\\n                                Surmounts the tumult high and wild,<br/>\\r\\n                                And sounds to heaven, \\'My child! my child!\\'<br/>\\n</p>\\n<p>\\r\\n                                The mother in the whelming surge<br/>\\n<span class=\"indent-single\">Lifts up her infant o\\'er the sea,</span><br/>\\r\\n                                While lying on the awful verge<br/>\\n<span class=\"indent-single\">Where time unveils eternity—</span><br/>\\r\\n                                And calls to Mercy from the skies,<br/>\\r\\n                                To come and rescue, while she dies,<br/>\\r\\n                                The gift that, with her fleeting breath,<br/>\\r\\n                                She offers from the gates of death.<br/>\\n</p>\\n<p>\\r\\n                                It is a call for Heaven to hear.<br/>\\n<span class=\"indent-single\">Maternal fondness sends above</span><br/>\\r\\n                                A voice, that in her Father\\'s ear<br/>\\n<span class=\"indent-single\">Shall enter quick, for God is love.</span><br/>\\r\\n                                In such a moment, hands like these<br/>\\r\\n                                Their Maker with their offering sees.<br/>\\r\\n                                And for the faith of such a breast<br/>\\r\\n                                He will the blow of death arrest!<br/>\\n</p>\\n<p>\\r\\n                                The moon looks pale from out the cloud,<br/>\\n<span class=\"indent-single\">While Mercy\\'s angel takes the form</span><br/>\\r\\n                                Of him, who, mounted on the shroud,<br/>\\n<span class=\"indent-single\">Was first to see the coming storm.</span><br/>\\r\\n                                The SAILOR has a ready arm<br/>\\r\\n                                To bring relief and cope with harm.<br/>\\r\\n                                Though rough his hand, and nerved with steel,<br/>\\r\\n                                His heart is warm and quick to feel.<br/>\\n</p>\\n<p>\\r\\n                                And see him, as he braves the frown,<br/>\\n<span class=\"indent-single\">That sky and sea each other give!</span><br/>\\r\\n                                Beheld him where he plunges down,<br/>\\n<span class=\"indent-single\">That child and mother yet may live,</span><br/>\\r\\n                                And plucks them from a closing grave!<br/>\\r\\n                                They\\'re saved! they\\'re saved! the maddened wave<br/>\\r\\n                                Leaps foaming up to find its prey<br/>\\r\\n                                Snatched from its mouth and borne away.<br/>\\n</p>\\n<p>\\r\\n                                They\\'re saved! they\\'re saved! but where is he,<br/>\\n<span class=\"indent-single\">Who lulled his fearless babe to sleep?</span><br/>\\r\\n                                A floating plank on that wild sea<br/>\\n<span class=\"indent-single\">Has now his vital spark to keep!</span><br/>\\r\\n                                But, by the wan, affrighted moon,<br/>\\r\\n                                Help comes to him; and he is soon<br/>\\r\\n                                Upon the deck with living men<br/>\\r\\n                                To clasp that smiling boy again.<br/>\\n</p>\\n<p>\\r\\n                                And now can He, who only knows<br/>\\n<span class=\"indent-single\">Each human breast, behold alone</span><br/>\\r\\n                                What pure and grateful incense goes<br/>\\n<span class=\"indent-single\">From that sad wreck to his high throne.</span><br/>\\r\\n                                The twain whose hearts are truly one<br/>\\r\\n                                Will early teach their prattling son<br/>\\r\\n                                Upon his little heart to bear<br/>\\r\\n                                The SAILOR to his God, in prayer:—<br/>\\n</p>\\n<p>\\r\\n                                \\'O, Thou, who in thy hand dost hold<br/>\\n<span class=\"indent-single\">The winds and waves, that wake or sleep,</span><br/>\\r\\n                                Thy tender arms of mercy fold<br/>\\n<span class=\"indent-single\">Around the seamen on the deep!</span><br/>\\r\\n                                And when their voyage of life is o\\'er,<br/>\\r\\n                                May they be welcomed to the shore,<br/>\\r\\n                                Whose peaceful streets with gold are paved;<br/>\\r\\n                                And angels sing, \"They\\'re saved! they\\'re saved!\"\\'<br/>\\n</p>\\n',\n",
              " '\\r\\n                                I stood by the shore at the death of day,<br/>\\n<span class=\"indent-single\">As the sun sank flaming red;</span><br/>\\r\\n                                And the face of the waters that spread away<br/>\\n<span class=\"indent-single\">Was as gray as the face of the dead.</span><br/>\\n</p>\\n<p>\\r\\n                                And I heard the cry of the wanton sea<br/>\\n<span class=\"indent-single\">And the moan of the wailing wind;</span><br/>\\r\\n                                For love\\'s sweet pain in his heart had he,<br/>\\n<span class=\"indent-single\">But the gray old sea had sinned.</span><br/>\\n</p>\\n<p>\\r\\n                                The wind was young and the sea was old,<br/>\\n<span class=\"indent-single\">But their cries went up together;</span><br/>\\r\\n                                The wind was warm and the sea was cold,<br/>\\n<span class=\"indent-single\">For age makes wintry weather.</span><br/>\\n</p>\\n<p>\\r\\n                                So they cried aloud and they wept amain,<br/>\\n<span class=\"indent-single\">Till the sky grew dark to hear it;</span><br/>\\r\\n                                And out of its folds crept the misty rain,<br/>\\n<span class=\"indent-single\">In its shroud, like a troubled spirit.</span><br/>\\n</p>\\n<p>\\r\\n                                For the wind was wild with a hopeless love,<br/>\\n<span class=\"indent-single\">And the sea was sad at heart</span><br/>\\r\\n                                At many a crime that he wot of,<br/>\\n<span class=\"indent-single\">Wherein he had played his part.</span><br/>\\n</p>\\n<p>\\r\\n                                He thought of the gallant ships gone down<br/>\\n<span class=\"indent-single\">By the will of his wicked waves;</span><br/>\\r\\n                                And he thought how the churchyard in the town<br/>\\n<span class=\"indent-single\">Held the sea-made widows\\' graves.</span><br/>\\n</p>\\n<p>\\r\\n                                The wild wind thought of the love he had left<br/>\\n<span class=\"indent-single\">Afar in an Eastern land,</span><br/>\\r\\n                                And he longed, as long the much bereft,<br/>\\n<span class=\"indent-single\">For the touch of her perfumed hand.</span><br/>\\n</p>\\n<p>\\r\\n                                In his winding wail and his deep-heaved sigh<br/>\\n<span class=\"indent-single\">His aching grief found vent;</span><br/>\\r\\n                                While the sea looked up at the bending sky<br/>\\n<span class=\"indent-single\">And murmured: \"I repent.\"</span><br/>\\n</p>\\n<p>\\r\\n                                But e\\'en as he spoke, a ship came by,<br/>\\n<span class=\"indent-single\">That bravely ploughed the main,</span><br/>\\r\\n                                And a light came into the sea\\'s green eye,<br/>\\n<span class=\"indent-single\">And his heart grew hard again.</span><br/>\\n</p>\\n<p>\\r\\n                                Then he spoke to the wind: \"Friend, seest thou not<br/>\\n<span class=\"indent-single\">Yon vessel is eastward bound?</span><br/>\\r\\n                                Pray speed with it to the happy spot<br/>\\n<span class=\"indent-single\">Where thy loved one may be found.\"</span><br/>\\n</p>\\n<p>\\r\\n                                And the wind rose up in a dear delight,<br/>\\n<span class=\"indent-single\">And after the good ship sped;</span><br/>\\r\\n                                But the crafty sea by his wicked might<br/>\\n<span class=\"indent-single\">Kept the vessel ever ahead.</span><br/>\\n</p>\\n<p>\\r\\n                                Till the wind grew fierce in his despair,<br/>\\n<span class=\"indent-single\">And white on the brow and lip.</span><br/>\\r\\n                                He tore his garments and tore his hair,<br/>\\n<span class=\"indent-single\">And fell on the flying ship.</span><br/>\\n</p>\\n<p>\\r\\n                                And the ship went down, for a rock was there,<br/>\\n<span class=\"indent-single\">And the sailless sea loomed black;</span><br/>\\r\\n                                While burdened again with dole and care,<br/>\\n<span class=\"indent-single\">The wind came moaning back.</span><br/>\\n</p>\\n<p>\\r\\n                                And still he moans from his bosom hot<br/>\\n<span class=\"indent-single\">Where his raging grief lies pent,</span><br/>\\r\\n                                And ever when the ships come not,<br/>\\n<span class=\"indent-single\">The sea says: \"I repent,\"</span><br/>\\n</p>\\n']"
            ]
          },
          "metadata": {},
          "execution_count": 4
        }
      ]
    },
    {
      "cell_type": "code",
      "source": [
        "def doc_dict_func(corpus):\n",
        "  c=0\n",
        "  doc_dict={}\n",
        "  for i in corpus:\n",
        "    doc_dict[c]=i\n",
        "    c+=1\n",
        "  return doc_dict\n"
      ],
      "metadata": {
        "id": "vAsw8ikZ8ZAE"
      },
      "execution_count": null,
      "outputs": []
    },
    {
      "cell_type": "code",
      "source": [
        "doc_dict=doc_dict_func(corpus)"
      ],
      "metadata": {
        "id": "VkW_uDsTDBB-"
      },
      "execution_count": null,
      "outputs": []
    },
    {
      "cell_type": "code",
      "source": [
        "def remove_puctuation(doc_dict):\n",
        "    stop_words = stopwords.words('english') \n",
        "    vocabulary = []\n",
        "    for doc in doc_dict.values():\n",
        "        for word in word_tokenize(doc.lower().strip()): \n",
        "            if not word in stop_words:\n",
        "              vocabulary.append(word)\n",
        "    return  set(vocabulary)"
      ],
      "metadata": {
        "id": "z7_2qCUR2RO-"
      },
      "execution_count": null,
      "outputs": []
    },
    {
      "cell_type": "code",
      "source": [
        "vocabulary=remove_puctuation(doc_dict)"
      ],
      "metadata": {
        "id": "ZTQWJnEBDPzc"
      },
      "execution_count": null,
      "outputs": []
    },
    {
      "cell_type": "code",
      "source": [
        "def termfreq(vocabulary, doc_dict):\n",
        "    term_freq_dict = {}\n",
        "    for doc_id in doc_dict.keys():\n",
        "        term_freq_dict[doc_id] = {}\n",
        "    \n",
        "    for word in vocabulary:\n",
        "        for doc_id,doc in doc_dict.items():\n",
        "            term_freq_dict[doc_id][word] = doc.count(word)\n",
        "    return term_freq_dict"
      ],
      "metadata": {
        "id": "ppUbf7MVK1YV"
      },
      "execution_count": null,
      "outputs": []
    },
    {
      "cell_type": "code",
      "source": [
        "def word_doc_freq(vocabulary, doc_dict):\n",
        "    word_doc_freq_dict = {}\n",
        "    for word in vocabulary:\n",
        "        freq = 0\n",
        "        for doc in doc_dict.values():            \n",
        "           if word in word_tokenize(doc.lower().strip()):\n",
        "                freq +=1\n",
        "        word_doc_freq_dict[word] = freq\n",
        "    return word_doc_freq_dict"
      ],
      "metadata": {
        "id": "NvOQp5swEUj9"
      },
      "execution_count": null,
      "outputs": []
    },
    {
      "cell_type": "code",
      "source": [
        "def inversedoc_fre(vocabulary,word_doc_freq_dict,total_doc):\n",
        "    inverse_word_doc_freq_dict= {} \n",
        "    for word in vocabulary:     \n",
        "        inverse_word_doc_freq_dict[word] = np.log2((total_doc+1) / word_doc_freq_dict[word])\n",
        "    return inverse_word_doc_freq_dict"
      ],
      "metadata": {
        "id": "3SFrMt8QJdh-"
      },
      "execution_count": null,
      "outputs": []
    },
    {
      "cell_type": "code",
      "source": [
        "def tfidf(vocabulary,term_freq_dict,inverse_word_doc_freq_dict,doc_dict):\n",
        "    tf_idf_score_dict = {}\n",
        "    for doc_id in doc_dict.keys():\n",
        "        tf_idf_score_dict[doc_id] = {}\n",
        "    for word in vocabulary:\n",
        "        for doc_id,doc in doc_dict.items():\n",
        "            tf_idf_score_dict[doc_id][word] = term_freq_dict[doc_id][word] * inverse_word_doc_freq_dict[word]\n",
        "    return tf_idf_score_dict"
      ],
      "metadata": {
        "id": "JwmTYA4wKE3u"
      },
      "execution_count": null,
      "outputs": []
    },
    {
      "cell_type": "code",
      "source": [
        "def vsm(query, doc_dict,tf_idf_score_dict,number_of_result_doc):\n",
        "    query_vocab = []\n",
        "    for word in query.split():\n",
        "        if word not in query_vocab:\n",
        "            query_vocab.append(word)\n",
        "\n",
        "    query_wc = {}\n",
        "    for word in query_vocab:\n",
        "        query_wc[word] = query.lower().split().count(word)\n",
        "    \n",
        "    relevance_scores = {}\n",
        "    for doc_id in doc_dict.keys():\n",
        "        score = 0\n",
        "        for word in query_vocab:\n",
        "            score += query_wc[word] * tf_idf_score_dict[doc_id][word]\n",
        "        relevance_scores[doc_id] = score\n",
        "    sorted_value = OrderedDict(sorted(relevance_scores.items(), key=lambda x: x[1], reverse = True))\n",
        "    result = {k: sorted_value[k] for k in list(sorted_value)[:number_of_result_doc]}\n",
        "    result = sorted(result.items(), key=lambda x: x[1], reverse=True)\n",
        "    return result"
      ],
      "metadata": {
        "id": "VhNixXB4MnKe"
      },
      "execution_count": null,
      "outputs": []
    },
    {
      "cell_type": "code",
      "source": [
        "vocabulary=remove_puctuation(doc_dict)\n",
        "term_freq_dict=termfreq(vocabulary, doc_dict)\n",
        "word_doc_freq_dict=word_doc_freq(vocabulary, doc_dict)\n",
        "inverse_word_doc_freq_dict=inversedoc_fre(vocabulary,word_doc_freq_dict,len(doc_dict))\n",
        "tf_idf_score_dict=tfidf(vocabulary,term_freq_dict,inverse_word_doc_freq_dict,doc_dict)\n"
      ],
      "metadata": {
        "id": "4F3dBHGJOBkW"
      },
      "execution_count": null,
      "outputs": []
    },
    {
      "cell_type": "code",
      "source": [
        "result=vsm('ship wreck', doc_dict,tf_idf_score_dict,25)"
      ],
      "metadata": {
        "id": "d7wHbiJkRnk2"
      },
      "execution_count": null,
      "outputs": []
    },
    {
      "cell_type": "code",
      "source": [
        "result"
      ],
      "metadata": {
        "colab": {
          "base_uri": "https://localhost:8080/"
        },
        "id": "5jstygt-9JXA",
        "outputId": "154f62dc-7da0-407f-d342-cef62d4812e4"
      },
      "execution_count": null,
      "outputs": [
        {
          "output_type": "execute_result",
          "data": {
            "text/plain": [
              "[(14, 8.320517714938909),\n",
              " (23, 8.320517714938909),\n",
              " (24, 7.446048597022769),\n",
              " (16, 6.712970633847461),\n",
              " (12, 5.471962534343666),\n",
              " (5, 4.9640323980151795),\n",
              " (13, 3.7230242985113846),\n",
              " (2, 3.3564853169237305),\n",
              " (11, 3.3564853169237305),\n",
              " (19, 3.3564853169237305),\n",
              " (6, 2.4820161990075897),\n",
              " (7, 2.4820161990075897),\n",
              " (1, 1.2410080995037949),\n",
              " (8, 1.2410080995037949),\n",
              " (10, 1.2410080995037949),\n",
              " (18, 1.2410080995037949),\n",
              " (0, 0.0),\n",
              " (3, 0.0),\n",
              " (4, 0.0),\n",
              " (9, 0.0),\n",
              " (15, 0.0),\n",
              " (17, 0.0),\n",
              " (20, 0.0),\n",
              " (21, 0.0),\n",
              " (22, 0.0)]"
            ]
          },
          "metadata": {},
          "execution_count": 45
        }
      ]
    },
    {
      "cell_type": "code",
      "source": [
        "queries = dict(enumerate([\n",
        "    'ship wreck',\n",
        "    'sail sailing ship',\n",
        "    'little boat'\n",
        "    \n",
        "]))\n",
        "\n",
        "# RELEVANCE JUDGEMENTS list with [(query_id, document_id, judgement), ...] judgement 0 | 1 with 1 = relevant\n",
        "qrels = [\n",
        "         (0, 9, 1),\n",
        "         (0,11,1),\n",
        "         (0,12,1),\n",
        "         (0,13,0),\n",
        "         (0,14,0),\n",
        "         (0,0,0),\n",
        "         (0,24,0),\n",
        "         (0,17,0),\n",
        "         (0,3,0),\n",
        "         (0,4,0),\n",
        "\n",
        "         (1, 0, 0),\n",
        "         (1, 1, 0),\n",
        "         (1, 2, 1),\n",
        "         (1, 3, 1),\n",
        "         (1, 5, 0),\n",
        "         (1, 7, 1),\n",
        "         (1, 21, 0),\n",
        "         (1, 23, 1),\n",
        "        \n",
        "]"
      ],
      "metadata": {
        "id": "kS2uT1ArBmm6"
      },
      "execution_count": null,
      "outputs": []
    },
    {
      "cell_type": "code",
      "source": [
        "def precision_at_k(query_id, k=10):\n",
        "\n",
        "  doc_ranking = vsm(queries[query_id],doc_dict,tf_idf_score_dict,k)\n",
        "  retrieved = [doc[0] for doc in doc_ranking[:k]] # take only the document id, rather than score\n",
        "\n",
        "  TP = np.array([int((query_id, doc, 1) in qrels) for doc in retrieved]).sum()\n",
        "  FP = np.array([int((query_id, doc, 0) in qrels) for doc in retrieved]).sum()\n",
        "\n",
        "  precision = TP / (TP+FP)\n",
        "\n",
        "  return TP, FP, precision"
      ],
      "metadata": {
        "id": "jehpVbQyWaU9"
      },
      "execution_count": null,
      "outputs": []
    },
    {
      "cell_type": "code",
      "source": [
        "def f1_score_at_k(query_id, k=10):\n",
        "  # calculate f_1 score\n",
        "  # hint: you need to find TP's etc in a similar way to precision at k\n",
        "  doc_ranking = vsm(queries[query_id],doc_dict,tf_idf_score_dict,k)\n",
        "  retrieved = [doc[0] for doc in doc_ranking[:k]] # take only the document id, rather than score\n",
        "  \n",
        "  TP, FP, precision = precision_at_k(query_id, k)\n",
        "  relevant_docs = np.array(qrels)\n",
        "  relevant_docs = relevant_docs[relevant_docs[:, 0] == query_id][:,2].sum()\n",
        "  FN = relevant_docs - TP\n",
        "\n",
        "  recall = TP / (TP+FN)\n",
        "  f1 = (2 * precision * recall) / (precision + recall)\n",
        "  \n",
        "  return f1"
      ],
      "metadata": {
        "id": "9wxGr66iCdbI"
      },
      "execution_count": null,
      "outputs": []
    },
    {
      "cell_type": "code",
      "source": [
        "# To retrieve and calculate accuracy metrics for each query lets loop over them\n",
        "k = 10\n",
        "for query_id, query in queries.items():\n",
        "  tp, fp, precision = precision_at_k(query_id, k=k)\n",
        "  f1_score = f1_score_at_k(query_id, k=k)\n",
        "  print('retrieved query \"{}\" with Precision@{} = {} and F1-score = {}'.format(query, k, precision, f1_score))\n"
      ],
      "metadata": {
        "colab": {
          "base_uri": "https://localhost:8080/"
        },
        "id": "Ev1ni_tGEVVQ",
        "outputId": "64866c80-4e82-47b9-f110-87bddcb7ff6a"
      },
      "execution_count": null,
      "outputs": [
        {
          "output_type": "stream",
          "name": "stdout",
          "text": [
            "retrieved query \"ship wreck\" with Precision@10 = 0.4 and F1-score = 0.5\n",
            "retrieved query \"sail sailing ship\" with Precision@10 = 0.6666666666666666 and F1-score = 0.5714285714285715\n",
            "retrieved query \"little boat\" with Precision@10 = nan and F1-score = nan\n"
          ]
        },
        {
          "output_type": "stream",
          "name": "stderr",
          "text": [
            "/usr/local/lib/python3.7/dist-packages/ipykernel_launcher.py:9: RuntimeWarning: invalid value encountered in long_scalars\n",
            "  if __name__ == '__main__':\n",
            "/usr/local/lib/python3.7/dist-packages/ipykernel_launcher.py:12: RuntimeWarning: invalid value encountered in long_scalars\n",
            "  if sys.path[0] == '':\n"
          ]
        }
      ]
    }
  ]
}